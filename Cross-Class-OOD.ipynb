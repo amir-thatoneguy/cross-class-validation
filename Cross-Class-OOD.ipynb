{
  "nbformat": 4,
  "nbformat_minor": 0,
  "metadata": {
    "colab": {
      "provenance": [],
      "gpuType": "T4",
      "collapsed_sections": [
        "hdD1YGeA_O7o",
        "NYxkWfTJ_ddl",
        "HkI_UOrw1FtQ",
        "jyLFqhDcABMv",
        "3eAUpwre6TE0",
        "e4BtThPhBFwh",
        "HBNYpxSsB_Jj",
        "g4SCeUsJCSX8",
        "rdAwjtIArMuT",
        "WFCN_QT8q-d-",
        "3UKijCG0I3IT",
        "hN7EVxCkJChN",
        "CYz-0QzOG3Ze",
        "m1IhjI4FOHpf",
        "pBpRdgqBrsuw",
        "tjLU54M5MJ8j",
        "5GYs4gLENsqJ"
      ]
    },
    "kernelspec": {
      "name": "python3",
      "display_name": "Python 3"
    },
    "language_info": {
      "name": "python"
    },
    "accelerator": "GPU"
  },
  "cells": [
    {
      "cell_type": "markdown",
      "source": [
        "# Importing libraries"
      ],
      "metadata": {
        "id": "hdD1YGeA_O7o"
      }
    },
    {
      "cell_type": "code",
      "source": [
        "!pip install cleanlab"
      ],
      "metadata": {
        "colab": {
          "base_uri": "https://localhost:8080/"
        },
        "id": "He67znjGGueG",
        "outputId": "caa2f42f-4876-42c8-8fb3-2d62d0114cb7"
      },
      "execution_count": null,
      "outputs": [
        {
          "output_type": "stream",
          "name": "stdout",
          "text": [
            "Collecting cleanlab\n",
            "  Downloading cleanlab-2.4.0-py3-none-any.whl (225 kB)\n",
            "\u001b[?25l     \u001b[90m━━━━━━━━━━━━━━━━━━━━━━━━━━━━━━━━━━━━━━━━\u001b[0m \u001b[32m0.0/225.1 kB\u001b[0m \u001b[31m?\u001b[0m eta \u001b[36m-:--:--\u001b[0m\r\u001b[2K     \u001b[90m━━━━━━━━━━━━━━━━━━━━━━━━━━━━━━━━━━━━━━\u001b[0m \u001b[32m225.1/225.1 kB\u001b[0m \u001b[31m19.7 MB/s\u001b[0m eta \u001b[36m0:00:00\u001b[0m\n",
            "\u001b[?25hRequirement already satisfied: numpy>=1.20.0 in /usr/local/lib/python3.10/dist-packages (from cleanlab) (1.22.4)\n",
            "Requirement already satisfied: scikit-learn>=1.0 in /usr/local/lib/python3.10/dist-packages (from cleanlab) (1.2.2)\n",
            "Requirement already satisfied: tqdm>=4.53.0 in /usr/local/lib/python3.10/dist-packages (from cleanlab) (4.65.0)\n",
            "Requirement already satisfied: pandas>=1.1.5 in /usr/local/lib/python3.10/dist-packages (from cleanlab) (1.5.3)\n",
            "Requirement already satisfied: termcolor>=2.0.0 in /usr/local/lib/python3.10/dist-packages (from cleanlab) (2.3.0)\n",
            "Requirement already satisfied: python-dateutil>=2.8.1 in /usr/local/lib/python3.10/dist-packages (from pandas>=1.1.5->cleanlab) (2.8.2)\n",
            "Requirement already satisfied: pytz>=2020.1 in /usr/local/lib/python3.10/dist-packages (from pandas>=1.1.5->cleanlab) (2022.7.1)\n",
            "Requirement already satisfied: scipy>=1.3.2 in /usr/local/lib/python3.10/dist-packages (from scikit-learn>=1.0->cleanlab) (1.10.1)\n",
            "Requirement already satisfied: joblib>=1.1.1 in /usr/local/lib/python3.10/dist-packages (from scikit-learn>=1.0->cleanlab) (1.2.0)\n",
            "Requirement already satisfied: threadpoolctl>=2.0.0 in /usr/local/lib/python3.10/dist-packages (from scikit-learn>=1.0->cleanlab) (3.1.0)\n",
            "Requirement already satisfied: six>=1.5 in /usr/local/lib/python3.10/dist-packages (from python-dateutil>=2.8.1->pandas>=1.1.5->cleanlab) (1.16.0)\n",
            "Installing collected packages: cleanlab\n",
            "Successfully installed cleanlab-2.4.0\n"
          ]
        }
      ]
    },
    {
      "cell_type": "code",
      "execution_count": null,
      "metadata": {
        "id": "nJ3jQbklE6is",
        "colab": {
          "base_uri": "https://localhost:8080/"
        },
        "outputId": "4cc9892c-ebbb-4389-d37f-8db114e67c4c"
      },
      "outputs": [
        {
          "output_type": "stream",
          "name": "stdout",
          "text": [
            "--2023-07-07 20:22:29--  https://raw.githubusercontent.com/TrasperJ/102-flowers-classfication-with-PyTorch/master/flower_to_name.json\n",
            "Resolving raw.githubusercontent.com (raw.githubusercontent.com)... 185.199.108.133, 185.199.109.133, 185.199.110.133, ...\n",
            "Connecting to raw.githubusercontent.com (raw.githubusercontent.com)|185.199.108.133|:443... connected.\n",
            "HTTP request sent, awaiting response... 200 OK\n",
            "Length: 2219 (2.2K) [text/plain]\n",
            "Saving to: ‘flower_to_name.json’\n",
            "\n",
            "flower_to_name.json 100%[===================>]   2.17K  --.-KB/s    in 0s      \n",
            "\n",
            "2023-07-07 20:22:29 (41.7 MB/s) - ‘flower_to_name.json’ saved [2219/2219]\n",
            "\n"
          ]
        }
      ],
      "source": [
        "import torch\n",
        "import torchvision\n",
        "import torch.nn as nn\n",
        "from torchvision import datasets, transforms\n",
        "from torch.utils.data import random_split, Dataset, DataLoader, ConcatDataset, Subset\n",
        "import torch.optim.lr_scheduler as lr_scheduler\n",
        "from sklearn.model_selection import train_test_split\n",
        "from torchsummary import summary\n",
        "import numpy as np\n",
        "import pandas as pd\n",
        "import matplotlib.pyplot as plt\n",
        "from PIL import Image\n",
        "\n",
        "!wget https://raw.githubusercontent.com/TrasperJ/102-flowers-classfication-with-PyTorch/master/flower_to_name.json"
      ]
    },
    {
      "cell_type": "markdown",
      "source": [
        "# Data preprocessing"
      ],
      "metadata": {
        "id": "NYxkWfTJ_ddl"
      }
    },
    {
      "cell_type": "code",
      "source": [
        "#data loading\n",
        "\n",
        "transform = transforms.Compose([transforms.Resize((224, 224)),\n",
        "                         transforms.ToTensor(),\n",
        "                         #transforms.Normalize(mean=[0.485, 0.456, 0.406],std=[0.229, 0.224, 0.225])\n",
        "                         ])\n",
        "\n",
        "\n",
        "data_train = datasets.Flowers102(download = True, split = 'train', transform = transform, root = \"Dataset\")\n",
        "data_val = datasets.Flowers102(download = True, split = 'val', transform = transform, root = \"Dataset\")\n",
        "data_test = datasets.Flowers102(download = True, split = 'test', transform = transform, root = \"Dataset\")\n",
        "\n",
        "data = ConcatDataset([data_train, data_val, data_test])\n",
        "data.targets = torch.Tensor(data_train._labels + data_val._labels + data_test._labels)"
      ],
      "metadata": {
        "id": "jxKInAXpHNm8"
      },
      "execution_count": null,
      "outputs": []
    },
    {
      "cell_type": "code",
      "source": [
        "#flower categories to ids\n",
        "\n",
        "import json\n",
        "with open('flower_to_name.json', 'r') as f:\n",
        "  flower_to_name = json.load(f)\n",
        "\n",
        "\n",
        "labels = ['frangipani', 'camellia', 'gazania', 'barbeton daisy', 'hippeastrum', 'sweet william', 'primula']\n",
        "ood_labels = ['oxeye daisy', 'daffodil', 'yellow iris']\n",
        "labels_idx = []\n",
        "ood_labels_idx = []\n",
        "\n",
        "\n",
        "#lables idx pairs\n",
        "for idx, name in flower_to_name.items():\n",
        "  if name in labels:\n",
        "    labels_idx.append(int(idx))\n",
        "  if name in ood_labels:\n",
        "    ood_labels_idx.append(int(idx))"
      ],
      "metadata": {
        "id": "nmhdZ68FGeS-"
      },
      "execution_count": null,
      "outputs": []
    },
    {
      "cell_type": "code",
      "source": [
        "#separate ood and id ids\n",
        "\n",
        "_idx = []\n",
        "_OODidx = []\n",
        "\n",
        "for id in labels_idx:\n",
        "  ind = torch.where(data.targets == id)\n",
        "  _idx.append(list(ind))\n",
        "\n",
        "for id in ood_labels_idx:\n",
        "  ind = torch.where(data.targets == id)\n",
        "  _OODidx.append(list(ind))"
      ],
      "metadata": {
        "id": "auTiUI2MrPF5"
      },
      "execution_count": null,
      "outputs": []
    },
    {
      "cell_type": "code",
      "source": [
        "#train test split\n",
        "\n",
        "#sample selection\n",
        "train_idx = np.hstack([np.random.choice(x[0], int(0.8*len(x[0])), replace = False) for x in _idx])\n",
        "test_idx = np.hstack([np.setdiff1d(_idx[i][0].detach().cpu().numpy(), train_idx[i]) for i in range(len(_idx))])\n",
        "ood_idx = np.hstack([np.random.choice(x[0], 25) for x in _OODidx])\n",
        "\n",
        "\n",
        "\n",
        "#Find subsets\n",
        "training_data = Subset(data, train_idx)\n",
        "\n",
        "#id test data\n",
        "test_data = Subset(data, test_idx)\n",
        "\n",
        "#id + ood test data\n",
        "test_ood_data = Subset(data, np.hstack((test_idx, ood_idx)))\n"
      ],
      "metadata": {
        "id": "AI23i0jmu3bC"
      },
      "execution_count": null,
      "outputs": []
    },
    {
      "cell_type": "code",
      "source": [
        "#modify labels for the new classifier head\n",
        "def map_labels(label):\n",
        "  return torch.Tensor([labels_idx.index(x) for x in label])\n",
        "\n"
      ],
      "metadata": {
        "id": "qacBCFBoNNzY"
      },
      "execution_count": null,
      "outputs": []
    },
    {
      "cell_type": "markdown",
      "source": [
        "# Feature Extraction with VGG19"
      ],
      "metadata": {
        "id": "HkI_UOrw1FtQ"
      }
    },
    {
      "cell_type": "markdown",
      "source": [
        "## Initialize model with a new classifier head"
      ],
      "metadata": {
        "id": "jyLFqhDcABMv"
      }
    },
    {
      "cell_type": "code",
      "source": [
        "model = torchvision.models.vgg19(pretrained=True)\n",
        "\n",
        "\n",
        "for param in model.features.parameters():\n",
        "  param.requires_grad = False\n",
        "\n",
        "#setting a new classifier from scratch\n",
        "model.classifier = nn.Sequential(model.classifier,\n",
        "                                 nn.ReLU(),\n",
        "                                 nn.Dropout(p = 0.5),\n",
        "                                 nn.Linear(1000, 7))\n",
        "model.cuda()\n",
        "\n",
        "summary(model.cuda(), (3, 224, 224))"
      ],
      "metadata": {
        "id": "rOkiHNjmIcWK",
        "colab": {
          "base_uri": "https://localhost:8080/",
          "height": 534
        },
        "outputId": "aa1a1216-04a8-4ab9-a151-59dde7b5ce7f"
      },
      "execution_count": null,
      "outputs": [
        {
          "output_type": "stream",
          "name": "stderr",
          "text": [
            "/usr/local/lib/python3.10/dist-packages/torchvision/models/_utils.py:208: UserWarning: The parameter 'pretrained' is deprecated since 0.13 and may be removed in the future, please use 'weights' instead.\n",
            "  warnings.warn(\n",
            "/usr/local/lib/python3.10/dist-packages/torchvision/models/_utils.py:223: UserWarning: Arguments other than a weight enum or `None` for 'weights' are deprecated since 0.13 and may be removed in the future. The current behavior is equivalent to passing `weights=VGG19_Weights.IMAGENET1K_V1`. You can also use `weights=VGG19_Weights.DEFAULT` to get the most up-to-date weights.\n",
            "  warnings.warn(msg)\n",
            "Downloading: \"https://download.pytorch.org/models/vgg19-dcbb9e9d.pth\" to /root/.cache/torch/hub/checkpoints/vgg19-dcbb9e9d.pth\n",
            "100%|██████████| 548M/548M [00:06<00:00, 91.8MB/s]\n"
          ]
        },
        {
          "output_type": "error",
          "ename": "RuntimeError",
          "evalue": "ignored",
          "traceback": [
            "\u001b[0;31m---------------------------------------------------------------------------\u001b[0m",
            "\u001b[0;31mRuntimeError\u001b[0m                              Traceback (most recent call last)",
            "\u001b[0;32m<ipython-input-8-a3883a095e46>\u001b[0m in \u001b[0;36m<cell line: 12>\u001b[0;34m()\u001b[0m\n\u001b[1;32m     10\u001b[0m                                  \u001b[0mnn\u001b[0m\u001b[0;34m.\u001b[0m\u001b[0mDropout\u001b[0m\u001b[0;34m(\u001b[0m\u001b[0mp\u001b[0m \u001b[0;34m=\u001b[0m \u001b[0;36m0.5\u001b[0m\u001b[0;34m)\u001b[0m\u001b[0;34m,\u001b[0m\u001b[0;34m\u001b[0m\u001b[0;34m\u001b[0m\u001b[0m\n\u001b[1;32m     11\u001b[0m                                  nn.Linear(1000, 7))\n\u001b[0;32m---> 12\u001b[0;31m \u001b[0mmodel\u001b[0m\u001b[0;34m.\u001b[0m\u001b[0mcuda\u001b[0m\u001b[0;34m(\u001b[0m\u001b[0;34m)\u001b[0m\u001b[0;34m\u001b[0m\u001b[0;34m\u001b[0m\u001b[0m\n\u001b[0m\u001b[1;32m     13\u001b[0m \u001b[0;34m\u001b[0m\u001b[0m\n\u001b[1;32m     14\u001b[0m \u001b[0msummary\u001b[0m\u001b[0;34m(\u001b[0m\u001b[0mmodel\u001b[0m\u001b[0;34m.\u001b[0m\u001b[0mcuda\u001b[0m\u001b[0;34m(\u001b[0m\u001b[0;34m)\u001b[0m\u001b[0;34m,\u001b[0m \u001b[0;34m(\u001b[0m\u001b[0;36m3\u001b[0m\u001b[0;34m,\u001b[0m \u001b[0;36m224\u001b[0m\u001b[0;34m,\u001b[0m \u001b[0;36m224\u001b[0m\u001b[0;34m)\u001b[0m\u001b[0;34m)\u001b[0m\u001b[0;34m\u001b[0m\u001b[0;34m\u001b[0m\u001b[0m\n",
            "\u001b[0;32m/usr/local/lib/python3.10/dist-packages/torch/nn/modules/module.py\u001b[0m in \u001b[0;36mcuda\u001b[0;34m(self, device)\u001b[0m\n\u001b[1;32m    903\u001b[0m             \u001b[0mModule\u001b[0m\u001b[0;34m:\u001b[0m \u001b[0mself\u001b[0m\u001b[0;34m\u001b[0m\u001b[0;34m\u001b[0m\u001b[0m\n\u001b[1;32m    904\u001b[0m         \"\"\"\n\u001b[0;32m--> 905\u001b[0;31m         \u001b[0;32mreturn\u001b[0m \u001b[0mself\u001b[0m\u001b[0;34m.\u001b[0m\u001b[0m_apply\u001b[0m\u001b[0;34m(\u001b[0m\u001b[0;32mlambda\u001b[0m \u001b[0mt\u001b[0m\u001b[0;34m:\u001b[0m \u001b[0mt\u001b[0m\u001b[0;34m.\u001b[0m\u001b[0mcuda\u001b[0m\u001b[0;34m(\u001b[0m\u001b[0mdevice\u001b[0m\u001b[0;34m)\u001b[0m\u001b[0;34m)\u001b[0m\u001b[0;34m\u001b[0m\u001b[0;34m\u001b[0m\u001b[0m\n\u001b[0m\u001b[1;32m    906\u001b[0m \u001b[0;34m\u001b[0m\u001b[0m\n\u001b[1;32m    907\u001b[0m     \u001b[0;32mdef\u001b[0m \u001b[0mipu\u001b[0m\u001b[0;34m(\u001b[0m\u001b[0mself\u001b[0m\u001b[0;34m:\u001b[0m \u001b[0mT\u001b[0m\u001b[0;34m,\u001b[0m \u001b[0mdevice\u001b[0m\u001b[0;34m:\u001b[0m \u001b[0mOptional\u001b[0m\u001b[0;34m[\u001b[0m\u001b[0mUnion\u001b[0m\u001b[0;34m[\u001b[0m\u001b[0mint\u001b[0m\u001b[0;34m,\u001b[0m \u001b[0mdevice\u001b[0m\u001b[0;34m]\u001b[0m\u001b[0;34m]\u001b[0m \u001b[0;34m=\u001b[0m \u001b[0;32mNone\u001b[0m\u001b[0;34m)\u001b[0m \u001b[0;34m->\u001b[0m \u001b[0mT\u001b[0m\u001b[0;34m:\u001b[0m\u001b[0;34m\u001b[0m\u001b[0;34m\u001b[0m\u001b[0m\n",
            "\u001b[0;32m/usr/local/lib/python3.10/dist-packages/torch/nn/modules/module.py\u001b[0m in \u001b[0;36m_apply\u001b[0;34m(self, fn)\u001b[0m\n\u001b[1;32m    795\u001b[0m     \u001b[0;32mdef\u001b[0m \u001b[0m_apply\u001b[0m\u001b[0;34m(\u001b[0m\u001b[0mself\u001b[0m\u001b[0;34m,\u001b[0m \u001b[0mfn\u001b[0m\u001b[0;34m)\u001b[0m\u001b[0;34m:\u001b[0m\u001b[0;34m\u001b[0m\u001b[0;34m\u001b[0m\u001b[0m\n\u001b[1;32m    796\u001b[0m         \u001b[0;32mfor\u001b[0m \u001b[0mmodule\u001b[0m \u001b[0;32min\u001b[0m \u001b[0mself\u001b[0m\u001b[0;34m.\u001b[0m\u001b[0mchildren\u001b[0m\u001b[0;34m(\u001b[0m\u001b[0;34m)\u001b[0m\u001b[0;34m:\u001b[0m\u001b[0;34m\u001b[0m\u001b[0;34m\u001b[0m\u001b[0m\n\u001b[0;32m--> 797\u001b[0;31m             \u001b[0mmodule\u001b[0m\u001b[0;34m.\u001b[0m\u001b[0m_apply\u001b[0m\u001b[0;34m(\u001b[0m\u001b[0mfn\u001b[0m\u001b[0;34m)\u001b[0m\u001b[0;34m\u001b[0m\u001b[0;34m\u001b[0m\u001b[0m\n\u001b[0m\u001b[1;32m    798\u001b[0m \u001b[0;34m\u001b[0m\u001b[0m\n\u001b[1;32m    799\u001b[0m         \u001b[0;32mdef\u001b[0m \u001b[0mcompute_should_use_set_data\u001b[0m\u001b[0;34m(\u001b[0m\u001b[0mtensor\u001b[0m\u001b[0;34m,\u001b[0m \u001b[0mtensor_applied\u001b[0m\u001b[0;34m)\u001b[0m\u001b[0;34m:\u001b[0m\u001b[0;34m\u001b[0m\u001b[0;34m\u001b[0m\u001b[0m\n",
            "\u001b[0;32m/usr/local/lib/python3.10/dist-packages/torch/nn/modules/module.py\u001b[0m in \u001b[0;36m_apply\u001b[0;34m(self, fn)\u001b[0m\n\u001b[1;32m    795\u001b[0m     \u001b[0;32mdef\u001b[0m \u001b[0m_apply\u001b[0m\u001b[0;34m(\u001b[0m\u001b[0mself\u001b[0m\u001b[0;34m,\u001b[0m \u001b[0mfn\u001b[0m\u001b[0;34m)\u001b[0m\u001b[0;34m:\u001b[0m\u001b[0;34m\u001b[0m\u001b[0;34m\u001b[0m\u001b[0m\n\u001b[1;32m    796\u001b[0m         \u001b[0;32mfor\u001b[0m \u001b[0mmodule\u001b[0m \u001b[0;32min\u001b[0m \u001b[0mself\u001b[0m\u001b[0;34m.\u001b[0m\u001b[0mchildren\u001b[0m\u001b[0;34m(\u001b[0m\u001b[0;34m)\u001b[0m\u001b[0;34m:\u001b[0m\u001b[0;34m\u001b[0m\u001b[0;34m\u001b[0m\u001b[0m\n\u001b[0;32m--> 797\u001b[0;31m             \u001b[0mmodule\u001b[0m\u001b[0;34m.\u001b[0m\u001b[0m_apply\u001b[0m\u001b[0;34m(\u001b[0m\u001b[0mfn\u001b[0m\u001b[0;34m)\u001b[0m\u001b[0;34m\u001b[0m\u001b[0;34m\u001b[0m\u001b[0m\n\u001b[0m\u001b[1;32m    798\u001b[0m \u001b[0;34m\u001b[0m\u001b[0m\n\u001b[1;32m    799\u001b[0m         \u001b[0;32mdef\u001b[0m \u001b[0mcompute_should_use_set_data\u001b[0m\u001b[0;34m(\u001b[0m\u001b[0mtensor\u001b[0m\u001b[0;34m,\u001b[0m \u001b[0mtensor_applied\u001b[0m\u001b[0;34m)\u001b[0m\u001b[0;34m:\u001b[0m\u001b[0;34m\u001b[0m\u001b[0;34m\u001b[0m\u001b[0m\n",
            "\u001b[0;32m/usr/local/lib/python3.10/dist-packages/torch/nn/modules/module.py\u001b[0m in \u001b[0;36m_apply\u001b[0;34m(self, fn)\u001b[0m\n\u001b[1;32m    818\u001b[0m             \u001b[0;31m# `with torch.no_grad():`\u001b[0m\u001b[0;34m\u001b[0m\u001b[0;34m\u001b[0m\u001b[0m\n\u001b[1;32m    819\u001b[0m             \u001b[0;32mwith\u001b[0m \u001b[0mtorch\u001b[0m\u001b[0;34m.\u001b[0m\u001b[0mno_grad\u001b[0m\u001b[0;34m(\u001b[0m\u001b[0;34m)\u001b[0m\u001b[0;34m:\u001b[0m\u001b[0;34m\u001b[0m\u001b[0;34m\u001b[0m\u001b[0m\n\u001b[0;32m--> 820\u001b[0;31m                 \u001b[0mparam_applied\u001b[0m \u001b[0;34m=\u001b[0m \u001b[0mfn\u001b[0m\u001b[0;34m(\u001b[0m\u001b[0mparam\u001b[0m\u001b[0;34m)\u001b[0m\u001b[0;34m\u001b[0m\u001b[0;34m\u001b[0m\u001b[0m\n\u001b[0m\u001b[1;32m    821\u001b[0m             \u001b[0mshould_use_set_data\u001b[0m \u001b[0;34m=\u001b[0m \u001b[0mcompute_should_use_set_data\u001b[0m\u001b[0;34m(\u001b[0m\u001b[0mparam\u001b[0m\u001b[0;34m,\u001b[0m \u001b[0mparam_applied\u001b[0m\u001b[0;34m)\u001b[0m\u001b[0;34m\u001b[0m\u001b[0;34m\u001b[0m\u001b[0m\n\u001b[1;32m    822\u001b[0m             \u001b[0;32mif\u001b[0m \u001b[0mshould_use_set_data\u001b[0m\u001b[0;34m:\u001b[0m\u001b[0;34m\u001b[0m\u001b[0;34m\u001b[0m\u001b[0m\n",
            "\u001b[0;32m/usr/local/lib/python3.10/dist-packages/torch/nn/modules/module.py\u001b[0m in \u001b[0;36m<lambda>\u001b[0;34m(t)\u001b[0m\n\u001b[1;32m    903\u001b[0m             \u001b[0mModule\u001b[0m\u001b[0;34m:\u001b[0m \u001b[0mself\u001b[0m\u001b[0;34m\u001b[0m\u001b[0;34m\u001b[0m\u001b[0m\n\u001b[1;32m    904\u001b[0m         \"\"\"\n\u001b[0;32m--> 905\u001b[0;31m         \u001b[0;32mreturn\u001b[0m \u001b[0mself\u001b[0m\u001b[0;34m.\u001b[0m\u001b[0m_apply\u001b[0m\u001b[0;34m(\u001b[0m\u001b[0;32mlambda\u001b[0m \u001b[0mt\u001b[0m\u001b[0;34m:\u001b[0m \u001b[0mt\u001b[0m\u001b[0;34m.\u001b[0m\u001b[0mcuda\u001b[0m\u001b[0;34m(\u001b[0m\u001b[0mdevice\u001b[0m\u001b[0;34m)\u001b[0m\u001b[0;34m)\u001b[0m\u001b[0;34m\u001b[0m\u001b[0;34m\u001b[0m\u001b[0m\n\u001b[0m\u001b[1;32m    906\u001b[0m \u001b[0;34m\u001b[0m\u001b[0m\n\u001b[1;32m    907\u001b[0m     \u001b[0;32mdef\u001b[0m \u001b[0mipu\u001b[0m\u001b[0;34m(\u001b[0m\u001b[0mself\u001b[0m\u001b[0;34m:\u001b[0m \u001b[0mT\u001b[0m\u001b[0;34m,\u001b[0m \u001b[0mdevice\u001b[0m\u001b[0;34m:\u001b[0m \u001b[0mOptional\u001b[0m\u001b[0;34m[\u001b[0m\u001b[0mUnion\u001b[0m\u001b[0;34m[\u001b[0m\u001b[0mint\u001b[0m\u001b[0;34m,\u001b[0m \u001b[0mdevice\u001b[0m\u001b[0;34m]\u001b[0m\u001b[0;34m]\u001b[0m \u001b[0;34m=\u001b[0m \u001b[0;32mNone\u001b[0m\u001b[0;34m)\u001b[0m \u001b[0;34m->\u001b[0m \u001b[0mT\u001b[0m\u001b[0;34m:\u001b[0m\u001b[0;34m\u001b[0m\u001b[0;34m\u001b[0m\u001b[0m\n",
            "\u001b[0;32m/usr/local/lib/python3.10/dist-packages/torch/cuda/__init__.py\u001b[0m in \u001b[0;36m_lazy_init\u001b[0;34m()\u001b[0m\n\u001b[1;32m    245\u001b[0m         \u001b[0;32mif\u001b[0m \u001b[0;34m'CUDA_MODULE_LOADING'\u001b[0m \u001b[0;32mnot\u001b[0m \u001b[0;32min\u001b[0m \u001b[0mos\u001b[0m\u001b[0;34m.\u001b[0m\u001b[0menviron\u001b[0m\u001b[0;34m:\u001b[0m\u001b[0;34m\u001b[0m\u001b[0;34m\u001b[0m\u001b[0m\n\u001b[1;32m    246\u001b[0m             \u001b[0mos\u001b[0m\u001b[0;34m.\u001b[0m\u001b[0menviron\u001b[0m\u001b[0;34m[\u001b[0m\u001b[0;34m'CUDA_MODULE_LOADING'\u001b[0m\u001b[0;34m]\u001b[0m \u001b[0;34m=\u001b[0m \u001b[0;34m'LAZY'\u001b[0m\u001b[0;34m\u001b[0m\u001b[0;34m\u001b[0m\u001b[0m\n\u001b[0;32m--> 247\u001b[0;31m         \u001b[0mtorch\u001b[0m\u001b[0;34m.\u001b[0m\u001b[0m_C\u001b[0m\u001b[0;34m.\u001b[0m\u001b[0m_cuda_init\u001b[0m\u001b[0;34m(\u001b[0m\u001b[0;34m)\u001b[0m\u001b[0;34m\u001b[0m\u001b[0;34m\u001b[0m\u001b[0m\n\u001b[0m\u001b[1;32m    248\u001b[0m         \u001b[0;31m# Some of the queued calls may reentrantly call _lazy_init();\u001b[0m\u001b[0;34m\u001b[0m\u001b[0;34m\u001b[0m\u001b[0m\n\u001b[1;32m    249\u001b[0m         \u001b[0;31m# we need to just return without initializing in that case.\u001b[0m\u001b[0;34m\u001b[0m\u001b[0;34m\u001b[0m\u001b[0m\n",
            "\u001b[0;31mRuntimeError\u001b[0m: Found no NVIDIA driver on your system. Please check that you have an NVIDIA GPU and installed a driver from http://www.nvidia.com/Download/index.aspx"
          ]
        }
      ]
    },
    {
      "cell_type": "markdown",
      "source": [
        "## Training"
      ],
      "metadata": {
        "id": "3eAUpwre6TE0"
      }
    },
    {
      "cell_type": "code",
      "source": [
        "#Hyperparameters and configs\n",
        "\n",
        "device = torch.device('cuda' if torch.cuda.is_available() else 'cpu')\n",
        "\n",
        "lr = 1e-3\n",
        "weight_decay = 1e-4\n",
        "num_epochs = 20\n",
        "batch_size = 8\n",
        "\n",
        "criterion = nn.CrossEntropyLoss()\n",
        "optimizer = torch.optim.Adam(model.parameters(), lr = lr, weight_decay = weight_decay)\n",
        "scheduler = lr_scheduler.LinearLR(optimizer, start_factor=1.0, end_factor=0.5, total_iters=30)\n",
        "\n",
        "train_dataloader = DataLoader(training_data, batch_size=batch_size, shuffle=True)\n",
        "test_dataloader = DataLoader(test_data, batch_size=batch_size, shuffle=False)"
      ],
      "metadata": {
        "id": "sXJU20vtFmrI"
      },
      "execution_count": null,
      "outputs": []
    },
    {
      "cell_type": "code",
      "source": [
        "#training\n",
        "\n",
        "loss_train = []\n",
        "loss_validation = []\n",
        "\n",
        "#device = 'cpu'\n",
        "\n",
        "for epoch in range(num_epochs):\n",
        "  for i, (input, target) in enumerate(train_dataloader):\n",
        "\n",
        "          target = map_labels(target).type(torch.LongTensor).to(device)\n",
        "          input = input.to(device)\n",
        "\n",
        "          # compute output\n",
        "          output = model(input)\n",
        "          loss = criterion(output, target)\n",
        "          loss_train.append(loss.item())\n",
        "\n",
        "          # backpropagate\n",
        "          optimizer.zero_grad()\n",
        "          loss.backward()\n",
        "          optimizer.step()\n",
        "\n",
        "          print ('Epoch [{}/{}], Step [{}/{}], Loss: {:.4f}'.format(epoch+1, num_epochs, i+1, len(train_dataloader), loss.item()))\n",
        "\n",
        "  before_lr = optimizer.param_groups[0][\"lr\"]\n",
        "  scheduler.step()\n",
        "  after_lr = optimizer.param_groups[0][\"lr\"]\n",
        "  print(\"------- Epoch %d: lr %.4f -> %.4f\" % (epoch+1, before_lr, after_lr))"
      ],
      "metadata": {
        "id": "seRvBbvc7DWA"
      },
      "execution_count": null,
      "outputs": []
    },
    {
      "cell_type": "markdown",
      "source": [
        "## Test"
      ],
      "metadata": {
        "id": "e4BtThPhBFwh"
      }
    },
    {
      "cell_type": "code",
      "source": [
        "#testing\n",
        "loss_test = []\n",
        "\n",
        "\n",
        "with torch.no_grad():\n",
        "  correct = 0\n",
        "  total = 0\n",
        "  for i, (input, target) in enumerate(test_dataloader):\n",
        "\n",
        "        target = map_labels(target).type(torch.LongTensor).to(device)\n",
        "        input = input.to(device)\n",
        "\n",
        "        # compute output\n",
        "        output = model(input)\n",
        "        loss = criterion(output, target)\n",
        "        loss_test.append(loss.item())\n",
        "\n",
        "        total += target.size(0)\n",
        "        _, predicted = torch.max(output.data, 1)\n",
        "        correct += (predicted == target).sum().item()\n",
        "\n",
        "  print('Accuracy on the test images: {} %'.format(100 * correct / total))"
      ],
      "metadata": {
        "id": "Br9ME0eb-J60"
      },
      "execution_count": null,
      "outputs": []
    },
    {
      "cell_type": "markdown",
      "source": [
        "## Save model"
      ],
      "metadata": {
        "id": "HBNYpxSsB_Jj"
      }
    },
    {
      "cell_type": "code",
      "source": [
        "# from google.colab import drive\n",
        "# drive.mount('/content/drive')\n",
        "\n",
        "# torch.save(model.state_dict(),'/content/drive/MyDrive/SML Model/model.pt')"
      ],
      "metadata": {
        "id": "jmnAJ4FLLLFw"
      },
      "execution_count": null,
      "outputs": []
    },
    {
      "cell_type": "markdown",
      "source": [
        "## Feature extraction using penultimate layers' activations"
      ],
      "metadata": {
        "id": "g4SCeUsJCSX8"
      }
    },
    {
      "cell_type": "code",
      "source": [
        "# a dict to store the activations\n",
        "activation = {}\n",
        "def getActivation(name):\n",
        "  # the hook signature\n",
        "  def hook(model, input, output):\n",
        "    activation[name] = output.detach()\n",
        "  return hook\n",
        "\n",
        "\n",
        "# register forward hooks on the layers of choice\n",
        "h1 = model.classifier[0][6].register_forward_hook(getActivation('feats'))"
      ],
      "metadata": {
        "id": "2UZGw4RGSlBx"
      },
      "execution_count": null,
      "outputs": []
    },
    {
      "cell_type": "code",
      "source": [
        "# model = torchvision.models.vgg19()\n",
        "# model.classifier = nn.Sequential(model.classifier,\n",
        "#                                  nn.ReLU(),\n",
        "#                                  nn.Dropout(p = 0.5),\n",
        "#                                  nn.Linear(1000, 7))\n",
        "\n",
        "# model.load_state_dict(torch.load('/content/drive/MyDrive/SML Model/model.pt'))\n",
        "# model.cuda()"
      ],
      "metadata": {
        "id": "HLxL8Uem1n0y"
      },
      "execution_count": null,
      "outputs": []
    },
    {
      "cell_type": "code",
      "source": [
        "feats_test, labels_test, feats_train, labels_train = [], [], [], []\n",
        "\n",
        "for data in test_ood_data:\n",
        "  x = data[0]\n",
        "  labels_test.append(data[1])\n",
        "  x = x.to(device)\n",
        "  x=x.reshape((1,3,224,224))\n",
        "  out = model(x)\n",
        "  feats_test.append(activation['feats'])\n",
        "\n",
        "for data in training_data:\n",
        "  x = data[0]\n",
        "  labels_train.append(data[1])\n",
        "  x = x.to(device)\n",
        "  x=x.reshape((1,3,224,224))\n",
        "  out = model(x)\n",
        "  feats_train.append(activation['feats'])\n",
        "\n",
        "\n",
        "#Numpify the features!\n",
        "feats_test_d = np.zeros((len(test_ood_data),1000))\n",
        "labels_test_d = np.zeros((len(test_ood_data)))\n",
        "\n",
        "feats_train_d = np.zeros((len(training_data),1000))\n",
        "labels_train_d = np.zeros((len(training_data)))\n",
        "\n",
        "for i in range(len(feats_test)):\n",
        "  feats_test_d[i,:] = feats_test[i].cpu().numpy()\n",
        "  labels_test_d[i] = labels_test[i]\n",
        "\n",
        "for i in range(len(feats_train)):\n",
        "  feats_train_d[i,:] = feats_train[i].cpu().numpy()\n",
        "  labels_train_d[i] = labels_train[i]\n",
        "\n",
        "h1.remove()"
      ],
      "metadata": {
        "id": "tbBvWOF4TD_x"
      },
      "execution_count": null,
      "outputs": []
    },
    {
      "cell_type": "code",
      "source": [
        "#Save extracted features\n",
        "\n",
        "np.save('/content/drive/MyDrive/SML Model/feats_test', feats_test_d)\n",
        "np.save('/content/drive/MyDrive/SML Model/feats_train', feats_train_d)\n",
        "np.save('/content/drive/MyDrive/SML Model/labels_test', labels_test_d)\n",
        "np.save('/content/drive/MyDrive/SML Model/labels_train', labels_train_d)"
      ],
      "metadata": {
        "id": "EDbahLw8VRSd"
      },
      "execution_count": null,
      "outputs": []
    },
    {
      "cell_type": "markdown",
      "source": [
        "## Load Extracted Features"
      ],
      "metadata": {
        "id": "U2SY6ysGZS0N"
      }
    },
    {
      "cell_type": "code",
      "source": [
        "from google.colab import drive\n",
        "drive.mount('/content/drive')"
      ],
      "metadata": {
        "colab": {
          "base_uri": "https://localhost:8080/"
        },
        "id": "L_1f3xnRZn2R",
        "outputId": "10afea1b-e796-4888-ebdc-190ee1894470"
      },
      "execution_count": null,
      "outputs": [
        {
          "output_type": "stream",
          "name": "stdout",
          "text": [
            "Mounted at /content/drive\n"
          ]
        }
      ]
    },
    {
      "cell_type": "code",
      "source": [
        "#Save extracted features\n",
        "\n",
        "feats_test_d = np.load('/content/drive/MyDrive/SML Model/feats_test.npy')\n",
        "feats_train_d = np.load('/content/drive/MyDrive/SML Model/feats_train.npy')\n",
        "labels_test_d = np.load('/content/drive/MyDrive/SML Model/labels_test.npy')\n",
        "labels_train_d = np.load('/content/drive/MyDrive/SML Model/labels_train.npy')"
      ],
      "metadata": {
        "id": "pDdLC9u1ZSdb"
      },
      "execution_count": null,
      "outputs": []
    },
    {
      "cell_type": "code",
      "source": [
        "X_train = feats_train_d\n",
        "y_train = labels_train_d\n",
        "\n",
        "X_test = feats_test_d\n",
        "y_test = labels_test_d\n",
        "\n",
        "\n",
        "labels = np.unique(y_train)"
      ],
      "metadata": {
        "id": "gPjP2R1SCF-7"
      },
      "execution_count": null,
      "outputs": []
    },
    {
      "cell_type": "markdown",
      "source": [
        "# Classifying seen and unseen classes in test by OOD detection"
      ],
      "metadata": {
        "id": "ndPo5SW7Iu49"
      }
    },
    {
      "cell_type": "markdown",
      "source": [
        "## Mahalanobis"
      ],
      "metadata": {
        "id": "rdAwjtIArMuT"
      }
    },
    {
      "cell_type": "code",
      "source": [
        "class Mahalanobis():\n",
        "  def __init__(self):\n",
        "    self.covs = []\n",
        "    self.cov = None\n",
        "    self.means = []\n",
        "    self.nb_classes = None\n",
        "    self.inv_cov = None\n",
        "    self.X_train = None\n",
        "    self.normalizing_factor = 1\n",
        "\n",
        "  def fit(self, X_train, y_train):\n",
        "\n",
        "    self.X_train = X_train\n",
        "    classes = np.unique(y_train)\n",
        "    self.nb_classes = len(classes)\n",
        "    class_indices = []\n",
        "    for i in range(self.nb_classes):\n",
        "      class_indices.append(y_train == classes[i])\n",
        "\n",
        "\n",
        "    for i in range(self.nb_classes):\n",
        "      self.means.append(np.mean(X_train[class_indices[i]]))\n",
        "      self.covs.append((X_train[class_indices[i]] - self.means[i]).T@(X_train[class_indices[i]] - self.means[i]))\n",
        "\n",
        "    self.cov = np.zeros(self.covs[0].shape)\n",
        "\n",
        "    for i in range(self.nb_classes):\n",
        "      self.cov += self.covs[i]\n",
        "\n",
        "    self.cov /= len(self.covs)\n",
        "\n",
        "    means_np = np.zeros((len(y_train), self.cov.shape[0]))\n",
        "\n",
        "    for i in range(self.nb_classes):\n",
        "      means_np[i] = self.means[i]\n",
        "\n",
        "    self.means = means_np\n",
        "    self.inv_cov = np.linalg.inv(self.cov)\n",
        "    self.normalize()\n",
        "\n",
        "\n",
        "  def predict(self, x, subtract_mean = True):\n",
        "\n",
        "    if (len(x.shape) != 1 and x.shape[0] != 1 and x.shape[1] != 1):\n",
        "      dists = np.zeros((x.shape[0], 1))\n",
        "      for i in range(x.shape[0]):\n",
        "        dists[i] = self.predict(x[i,:], subtract_mean)\n",
        "      return dists\n",
        "\n",
        "    if not subtract_mean:\n",
        "      return -np.min((x)@(self.inv_cov)@(x).T)/self.normalizing_factor\n",
        "\n",
        "    return -np.min((x - self.means)@(self.inv_cov)@(x - self.means).T)/self.normalizing_factor\n",
        "\n",
        "\n",
        "  def normalize(self):\n",
        "    self.normalizing_factor = np.linalg.norm(self.predict(self.X_train))\n",
        "\n",
        "\n"
      ],
      "metadata": {
        "id": "tdoPf3smrPkJ"
      },
      "execution_count": null,
      "outputs": []
    },
    {
      "cell_type": "markdown",
      "source": [
        "## Cross-validation for thresholds"
      ],
      "metadata": {
        "id": "WFCN_QT8q-d-"
      }
    },
    {
      "cell_type": "code",
      "source": [
        "import numpy as np\n",
        "\n",
        "\n",
        "def cross_val_ood(model, params, x_train, y_train):\n",
        "  class_indices_train = []\n",
        "  train_labels = np.unique(y_train)\n",
        "  nb_classes = len(train_labels)\n",
        "\n",
        "  for i in range(nb_classes):\n",
        "    class_indices_train.append(y_train == train_labels[i])\n",
        "\n",
        "  if (model == 'rbf_threshold'):\n",
        "\n",
        "    from sklearn.ensemble import RandomForestClassifier as RFC\n",
        "\n",
        "    params['best'] = 0\n",
        "\n",
        "    best_score = 0\n",
        "    #uncertainty estimation\n",
        "    for threshold in params['threshold']:\n",
        "\n",
        "      f1_class_mean = 0\n",
        "      for i in range(nb_classes):\n",
        "        rf = RFC().fit(X_train[~class_indices_train[i]], y_train[~class_indices_train[i]])\n",
        "        prob = rf.predict_proba(X_train[class_indices_train[i]])\n",
        "        prob_train = rf.predict_proba(X_train[~class_indices_train[i]])\n",
        "\n",
        "        acc_train = np.sum((prob_train.max(axis = 1) > threshold))/len(prob_train)\n",
        "        acc_test = np.sum((prob.max(axis = 1) < threshold))/len(prob)\n",
        "        f1_class_mean += ((acc_train*acc_test)/(acc_train+acc_test))/nb_classes\n",
        "\n",
        "      if (f1_class_mean > best_score):\n",
        "        best_score = f1_class_mean\n",
        "        params['best'] = threshold\n",
        "\n",
        "    return params\n",
        "\n",
        "\n",
        "  elif (model == 'knn_odd'):\n",
        "\n",
        "    from cleanlab.outlier import OutOfDistribution\n",
        "\n",
        "    params['best'] = 0\n",
        "\n",
        "    best_score = 0\n",
        "    #uncertainty estimation\n",
        "    for threshold in params['threshold']:\n",
        "\n",
        "      f1_class_mean = 0\n",
        "      for i in range(nb_classes):\n",
        "        ood = OutOfDistribution()\n",
        "        # To get outlier scores for train_data using feature matrix train_feature_embeddings\n",
        "        ood_train_feature_scores = ood.fit_score(features=X_train[~class_indices_train[i]])\n",
        "        # To get outlier scores for additional test_data using feature matrix test_feature_embeddings\n",
        "        ood_test_feature_scores = ood.score(features=X_train[class_indices_train[i]])\n",
        "        acc_train = sum(ood_train_feature_scores > threshold)/len(ood_train_feature_scores)\n",
        "        acc_test = np.sum(ood_test_feature_scores < threshold)/len(ood_test_feature_scores)\n",
        "        f1_class_mean += ((acc_train*acc_test)/(acc_train+acc_test))/nb_classes\n",
        "\n",
        "      if (f1_class_mean > best_score):\n",
        "        best_score = f1_class_mean\n",
        "        params['best'] = threshold\n",
        "\n",
        "\n",
        "  elif (model == 'mahalanobis'):\n",
        "\n",
        "    params['best'] = 0\n",
        "    best_score = 0\n",
        "    #uncertainty estimation\n",
        "    for threshold in params['threshold']:\n",
        "\n",
        "      f1_class_mean = 0\n",
        "      for i in range(nb_classes):\n",
        "        mahalanobis = Mahalanobis()\n",
        "        # To get outlier scores for train_data using feature matrix train_feature_embeddings\n",
        "        mahalanobis.fit(X_train[~class_indices_train[i]], y_train[~class_indices_train[i]])\n",
        "        train_dists = mahalanobis.predict(X_train[~class_indices_train[i]])\n",
        "        # To get outlier scores for additional test_data using feature matrix test_feature_embeddings\n",
        "        test_dists = mahalanobis.predict(X_train[~class_indices_train[i]])\n",
        "\n",
        "        acc_train = sum(train_dists > threshold)/len(train_dists)\n",
        "        acc_test = np.sum(test_dists < threshold)/len(test_dists)\n",
        "        f1_class_mean += ((acc_train*acc_test)/(acc_train+acc_test))/nb_classes\n",
        "\n",
        "      if (f1_class_mean > best_score):\n",
        "        best_score = f1_class_mean\n",
        "        params['best'] = threshold\n",
        "\n",
        "    return params\n",
        "\n",
        "\n",
        "\n",
        "  else:\n",
        "    return None\n",
        "\n",
        "\n"
      ],
      "metadata": {
        "id": "1_gEtxqArDBZ"
      },
      "execution_count": null,
      "outputs": []
    },
    {
      "cell_type": "code",
      "source": [
        "params = {'threshold': [0.5, 0.6, 0.7, 0.8, 0.85]}\n",
        "\n",
        "params = cross_val_ood('rbf_threshold', params, X_train, y_train)"
      ],
      "metadata": {
        "id": "3q5ZDl4WrTDq"
      },
      "execution_count": null,
      "outputs": []
    },
    {
      "cell_type": "markdown",
      "source": [
        "## OOD detection with entropy"
      ],
      "metadata": {
        "id": "3UKijCG0I3IT"
      }
    },
    {
      "cell_type": "code",
      "source": [
        "#Calcculating entropy of OOD\n",
        "\n",
        "import scipy\n",
        "\n",
        "ood_test_dataloader = DataLoader(test_ood_data, batch_size = 1, shuffle = True)\n",
        "Ent_ood = []\n",
        "\n",
        "with torch.no_grad():\n",
        "  for i, (input, target) in enumerate(ood_test_dataloader):\n",
        "\n",
        "        target = target.type(torch.LongTensor).to(device)\n",
        "        input = input.to(device)\n",
        "        # compute output\n",
        "        output = model(input)\n",
        "\n",
        "        soft_out = torch.softmax(output[0], dim=0)\n",
        "        val, predicted = torch.max(soft_out.data, 0)\n",
        "        Ent_ood.append(val)"
      ],
      "metadata": {
        "id": "uqhLTHtrVmdD"
      },
      "execution_count": null,
      "outputs": []
    },
    {
      "cell_type": "code",
      "source": [
        "#Creating boolean lists for members of each train class\n",
        "class_indices = []\n",
        "\n",
        "for i in range(len(labels)):\n",
        "  class_indices.append((y_train == labels[i]))\n",
        "\n",
        "#Creating boolean lists for members of each test class\n",
        "class_indices_test = []\n",
        "test_labels = np.unique(y_test)\n",
        "\n",
        "for i in range(len(test_labels)):\n",
        "  class_indices_test.append(y_test == test_labels[i])"
      ],
      "metadata": {
        "id": "ZLWujZBJCb6s"
      },
      "execution_count": null,
      "outputs": []
    },
    {
      "cell_type": "markdown",
      "source": [
        "## OOD detection by Mahalanobis distance"
      ],
      "metadata": {
        "id": "hN7EVxCkJChN"
      }
    },
    {
      "cell_type": "code",
      "source": [
        "#Calculating means and covariances for features\n",
        "\n",
        "means = []\n",
        "covs = []\n",
        "\n",
        "for i in range(len(labels)):\n",
        "  means.append(np.mean(X_train[class_indices[i]]))\n",
        "  covs.append((X_train[class_indices[i]] - means[i]).T@(X_train[class_indices[i]] - means[i]))\n",
        "\n",
        "cov = np.zeros(covs[0].shape)\n",
        "\n",
        "for i in range(len(covs)):\n",
        "  cov += covs[i]\n",
        "\n",
        "cov /= len(covs)\n",
        "\n",
        "means_np = np.zeros((len(labels), cov.shape[0]))\n",
        "\n",
        "for i in range(len(means)):\n",
        "  means_np[i] = means[i]\n",
        "\n",
        "# inverse of covariance\n",
        "inv_cov = np.linalg.inv(cov)"
      ],
      "metadata": {
        "id": "mrAHkWwADDz3"
      },
      "execution_count": null,
      "outputs": []
    },
    {
      "cell_type": "code",
      "source": [
        "# Mahalanobis distance\n",
        "\n",
        "def m_distance(x, inv_cov, means, subtract_mean = True):\n",
        "\n",
        "  if not subtract_mean:\n",
        "    return -np.min((x)@(inv_cov)@(x).T)\n",
        "\n",
        "  return -np.min((x - means)@(inv_cov)@(x - means).T)"
      ],
      "metadata": {
        "id": "G9veCq4GF3I7"
      },
      "execution_count": null,
      "outputs": []
    },
    {
      "cell_type": "code",
      "source": [
        "#Calculating Mahalanobis distance for test data\n",
        "\n",
        "test_ood_distances = []\n",
        "test_id_distances = []\n",
        "id_distances = []\n",
        "\n",
        "for i in range(len(X_train)):\n",
        "  id_distances.append(m_distance(X_train[i], inv_cov, means_np))\n",
        "\n",
        "for i in range(len(X_test)):\n",
        "  #in distribution\n",
        "  if (y_test[i] in labels):\n",
        "    test_id_distances.append(m_distance(X_test[i], inv_cov, means_np))\n",
        "\n",
        "  #ood\n",
        "  else:\n",
        "    test_ood_distances.append(m_distance(X_test[i], inv_cov, means_np))"
      ],
      "metadata": {
        "id": "NDxTNXd6GoVf"
      },
      "execution_count": null,
      "outputs": []
    },
    {
      "cell_type": "code",
      "source": [
        "test_ood_distances = []\n",
        "test_id_distances = []\n",
        "id_distances = []\n",
        "\n",
        "for i in range(len(X_train)):\n",
        "  id_distances.append(m_distance(X_train[i], inv_cov, means_np, subtract_mean = False))\n",
        "\n",
        "for i in range(len(X_test)):\n",
        "  #in distribution\n",
        "  if (y_test[i] in labels):\n",
        "    test_id_distances.append(m_distance(X_test[i], inv_cov, means_np, subtract_mean = False))\n",
        "\n",
        "  #ood\n",
        "  else:\n",
        "    test_ood_distances.append(m_distance(X_test[i], inv_cov, means_np, subtract_mean = False))"
      ],
      "metadata": {
        "id": "kVOzvOn4UFuo"
      },
      "execution_count": null,
      "outputs": []
    },
    {
      "cell_type": "code",
      "source": [
        "id_distances = np.array(id_distances)\n",
        "test_ood_distances = np.array(test_ood_distances)\n",
        "test_id_distances = np.array(test_id_distances)"
      ],
      "metadata": {
        "id": "Jz4BedwFLPof"
      },
      "execution_count": null,
      "outputs": []
    },
    {
      "cell_type": "code",
      "source": [
        "#Plots for m-distances' dist. of train and test (ood and id) data\n",
        "import matplotlib.pyplot as plt\n",
        "\n",
        "plt.hist(id_distances/np.linalg.norm(id_distances), density=True, bins=200);\n",
        "\n",
        "plt.figure();\n",
        "plt.hist(test_ood_distances/np.linalg.norm(id_distances), density=True, bins=200, color='r');\n",
        "\n",
        "plt.figure();\n",
        "plt.hist(test_id_distances/np.linalg.norm(id_distances), density=True, bins=200);\n",
        "\n",
        "plt.show();"
      ],
      "metadata": {
        "colab": {
          "base_uri": "https://localhost:8080/",
          "height": 1000
        },
        "id": "I7HN8XxZKwW1",
        "outputId": "5baa944e-efdf-476e-ba88-e11107817cb7"
      },
      "execution_count": null,
      "outputs": [
        {
          "output_type": "display_data",
          "data": {
            "text/plain": [
              "<Figure size 640x480 with 1 Axes>"
            ],
            "image/png": "[encoded data removed]"
          },
          "metadata": {}
        },
        {
          "output_type": "display_data",
          "data": {
            "text/plain": [
              "<Figure size 640x480 with 1 Axes>"
            ],
            "image/png": "[encoded data removed]"
          },
          "metadata": {}
        },
        {
          "output_type": "display_data",
          "data": {
            "text/plain": [
              "<Figure size 640x480 with 1 Axes>"
            ],
            "image/png": "[encoded data removed]"
          },
          "metadata": {}
        }
      ]
    },
    {
      "cell_type": "markdown",
      "source": [
        "## OOD detection with cleanlab (K-nn distance)"
      ],
      "metadata": {
        "id": "CYz-0QzOG3Ze"
      }
    },
    {
      "cell_type": "code",
      "source": [
        "#seperating ood and id indecies in test dataset\n",
        "\n",
        "ood_ind = []\n",
        "id_test = []\n",
        "\n",
        "for i in range(len(y_test)):\n",
        "  if (y_test[i] not in labels):\n",
        "    ood_ind.append(i)\n",
        "  else:\n",
        "    id_test.append(i)"
      ],
      "metadata": {
        "id": "oHq_2ieObjxY"
      },
      "execution_count": null,
      "outputs": []
    },
    {
      "cell_type": "code",
      "source": [
        "from cleanlab.outlier import OutOfDistribution\n",
        "\n",
        "ood = OutOfDistribution()\n",
        "\n",
        "# To get outlier scores for train_data using feature matrix train_feature_embeddings\n",
        "ood_train_feature_scores = ood.fit_score(features=X_train)\n",
        "\n",
        "# To get outlier scores for additional test_data using feature matrix test_feature_embeddings\n",
        "ood_test_feature_scores = ood.score(features=X_test[ood_ind])\n",
        "\n",
        "# To get outlier scores for additional test_data using feature matrix test_feature_embeddings\n",
        "ood_test_id_feature_scores = ood.score(features=X_test[id_test])"
      ],
      "metadata": {
        "colab": {
          "base_uri": "https://localhost:8080/"
        },
        "id": "YKtr_5A8Zlsp",
        "outputId": "c6243d9f-17fa-43b3-bd95-f42e4dba26c1"
      },
      "execution_count": null,
      "outputs": [
        {
          "output_type": "stream",
          "name": "stdout",
          "text": [
            "Fitting OOD estimator based on provided features ...\n"
          ]
        }
      ]
    },
    {
      "cell_type": "code",
      "source": [
        "#Plots for K-nn dist. of train and test (ood and id) data\n",
        "\n",
        "plt.hist(ood_train_feature_scores, density=True, bins=10)\n",
        "\n",
        "plt.figure()\n",
        "plt.hist(ood_test_feature_scores, density=True, bins=10, color='r')\n",
        "\n",
        "plt.figure()\n",
        "plt.hist(ood_test_id_feature_scores, density=True,bins = 10)\n",
        "\n",
        "plt.show()"
      ],
      "metadata": {
        "colab": {
          "base_uri": "https://localhost:8080/",
          "height": 1000
        },
        "id": "zq8acPDCaWt4",
        "outputId": "634645aa-ecaa-482b-9c6d-99b70b03043b"
      },
      "execution_count": null,
      "outputs": [
        {
          "output_type": "display_data",
          "data": {
            "text/plain": [
              "<Figure size 640x480 with 1 Axes>"
            ],
            "image/png": "[encoded data removed]"
          },
          "metadata": {}
        },
        {
          "output_type": "display_data",
          "data": {
            "text/plain": [
              "<Figure size 640x480 with 1 Axes>"
            ],
            "image/png": "[encoded data removed]"
          },
          "metadata": {}
        },
        {
          "output_type": "display_data",
          "data": {
            "text/plain": [
              "<Figure size 640x480 with 1 Axes>"
            ],
            "image/png": "[encoded data removed]"
          },
          "metadata": {}
        }
      ]
    },
    {
      "cell_type": "code",
      "source": [
        "threshold = .9\n",
        "\n",
        "print(np.sum(ood_train_feature_scores > threshold)/len(ood_train_feature_scores))\n",
        "print(np.sum(ood_test_feature_scores < threshold)/len(ood_test_feature_scores))\n",
        "print(np.sum(ood_test_id_feature_scores > threshold)/len(ood_test_id_feature_scores))"
      ],
      "metadata": {
        "colab": {
          "base_uri": "https://localhost:8080/"
        },
        "id": "UAnXJGxoZLZU",
        "outputId": "638973ed-7989-4962-8648-e7b119a4e672"
      },
      "execution_count": null,
      "outputs": [
        {
          "output_type": "stream",
          "name": "stdout",
          "text": [
            "0.9901234567901235\n",
            "0.6266666666666667\n",
            "0.9667318982387475\n"
          ]
        }
      ]
    },
    {
      "cell_type": "markdown",
      "source": [
        "## OOD detection by random forest"
      ],
      "metadata": {
        "id": "m1IhjI4FOHpf"
      }
    },
    {
      "cell_type": "code",
      "source": [
        "from sklearn.ensemble import RandomForestClassifier as RFC\n",
        "\n",
        "rf = RFC().fit(X_train, y_train)\n",
        "\n",
        "prob = rf.predict_proba(X_test)\n",
        "prob_train = rf.predict_proba(X_train)"
      ],
      "metadata": {
        "id": "yJu10P-EwtGd"
      },
      "execution_count": null,
      "outputs": []
    },
    {
      "cell_type": "code",
      "source": [
        "#uncertainty estimation\n",
        "threshold = 0.90\n",
        "\n",
        "print('odd accuracy on training data: ', np.sum((prob_train.max(axis = 1) > threshold))/len(X_train))\n",
        "print('odd accuracy on ood test data: ', np.sum((prob[ood_ind].max(axis = 1) < threshold))/len(X_test[ood_ind]))\n",
        "print('odd accuracy on id test data: ', np.sum((prob[id_test].max(axis = 1) > threshold))/len(X_test[id_test]))"
      ],
      "metadata": {
        "colab": {
          "base_uri": "https://localhost:8080/"
        },
        "id": "ZIuV68FYOaMC",
        "outputId": "ab23ac12-765a-4ccf-f89a-f0c0483e50c9"
      },
      "execution_count": null,
      "outputs": [
        {
          "output_type": "stream",
          "name": "stdout",
          "text": [
            "odd accuracy on training data:  0.980246913580247\n",
            "odd accuracy on ood test data:  0.7866666666666666\n",
            "odd accuracy on id test data:  0.8512720156555773\n"
          ]
        }
      ]
    },
    {
      "cell_type": "markdown",
      "source": [
        "## OOD detection after PCA"
      ],
      "metadata": {
        "id": "pBpRdgqBrsuw"
      }
    },
    {
      "cell_type": "code",
      "source": [],
      "metadata": {
        "id": "PWfO_HydryR-"
      },
      "execution_count": null,
      "outputs": []
    },
    {
      "cell_type": "markdown",
      "source": [
        "# Clustering unseen test data"
      ],
      "metadata": {
        "id": "tjLU54M5MJ8j"
      }
    },
    {
      "cell_type": "markdown",
      "source": [
        "## T-SNE & PCA"
      ],
      "metadata": {
        "id": "6-fCDU0ULNq9"
      }
    },
    {
      "cell_type": "code",
      "source": [
        "from sklearn.manifold import TSNE\n",
        "import matplotlib.pyplot as plt\n",
        "from sklearn.decomposition import PCA\n",
        "\n",
        "#Decreasing dimension of data with t-sne\n",
        "tsne = TSNE(n_components = 2)\n",
        "x_test_tsne = tsne.fit_transform(X_test[ood_ind])\n",
        "\n",
        "#Decreasing dimension of data with pca\n",
        "pca = PCA(n_components = 2)\n",
        "x_pca = pca.fit_transform(X_test[ood_ind])"
      ],
      "metadata": {
        "id": "ccE8STZHpeiW"
      },
      "execution_count": null,
      "outputs": []
    },
    {
      "cell_type": "code",
      "source": [
        "# t-sne plot\n",
        "plt.scatter(x_test_tsne[:,0],x_test_tsne[:,1], c=y_test[ood_ind]);"
      ],
      "metadata": {
        "colab": {
          "base_uri": "https://localhost:8080/",
          "height": 430
        },
        "id": "lNev9rt-qmFb",
        "outputId": "a14a4bf4-18ae-4fad-9cd4-07f97293a387"
      },
      "execution_count": null,
      "outputs": [
        {
          "output_type": "display_data",
          "data": {
            "text/plain": [
              "<Figure size 640x480 with 1 Axes>"
            ],
            "image/png": "[encoded data removed]"
          },
          "metadata": {}
        }
      ]
    },
    {
      "cell_type": "code",
      "source": [
        "# pca plot\n",
        "plt.scatter(x_pca[:,0], x_pca[:,1], c=y_test[ood_ind]);"
      ],
      "metadata": {
        "colab": {
          "base_uri": "https://localhost:8080/",
          "height": 430
        },
        "id": "hVRU7SihM-kr",
        "outputId": "77ec4310-7299-4700-f4e1-3180dd8d520a"
      },
      "execution_count": null,
      "outputs": [
        {
          "output_type": "display_data",
          "data": {
            "text/plain": [
              "<Figure size 640x480 with 1 Axes>"
            ],
            "image/png": "[encoded data removed]"
          },
          "metadata": {}
        }
      ]
    },
    {
      "cell_type": "markdown",
      "source": [
        "## Bayesian Gaussian Mixture (NPB)"
      ],
      "metadata": {
        "id": "kLeapG-8MVcC"
      }
    },
    {
      "cell_type": "markdown",
      "source": [
        "% BGM"
      ],
      "metadata": {
        "id": "xvj95-OINSxq"
      }
    },
    {
      "cell_type": "code",
      "source": [
        "from sklearn.mixture import BayesianGaussianMixture as BGM\n",
        "\n",
        "bgm = BGM(n_components = 5, covariance_type='full').fit(x_pca)\n",
        "\n",
        "\n",
        "labels_ = bgm.predict(x_pca)\n",
        "\n",
        "\n",
        "from sklearn.metrics.cluster import normalized_mutual_info_score as NMI\n",
        "nmi = NMI(y_test[ood_ind], labels_)\n",
        "print(\"NMI: %.4f\" % nmi)\n",
        "print(f'estimated uneen classes {len(np.unique(labels_))}')\n"
      ],
      "metadata": {
        "colab": {
          "base_uri": "https://localhost:8080/"
        },
        "id": "wJswN77xrbA9",
        "outputId": "1c9b10a6-6d23-4b77-ad35-769a96987383"
      },
      "execution_count": null,
      "outputs": [
        {
          "output_type": "stream",
          "name": "stdout",
          "text": [
            "NMI: 0.5603\n",
            "estimated uneen classes 4\n"
          ]
        }
      ]
    },
    {
      "cell_type": "code",
      "source": [
        "from sklearn.metrics import adjusted_rand_score as ars\n",
        "\n",
        "print(f'ARS: {ars(y_test[ood_ind],labels_)}')"
      ],
      "metadata": {
        "colab": {
          "base_uri": "https://localhost:8080/"
        },
        "id": "xFIjw6jhtLgo",
        "outputId": "339773d7-8806-4c58-92e4-7794a6c9f403"
      },
      "execution_count": null,
      "outputs": [
        {
          "output_type": "stream",
          "name": "stdout",
          "text": [
            "ARS: 0.5026509734902651\n"
          ]
        }
      ]
    },
    {
      "cell_type": "markdown",
      "source": [
        "# Classifing seen classes in test"
      ],
      "metadata": {
        "id": "5GYs4gLENsqJ"
      }
    },
    {
      "cell_type": "code",
      "source": [
        "from sklearn.svm import SVC\n",
        "from sklearn.decomposition import PCA\n",
        "\n",
        "\n",
        "pca_train = PCA(n_components = 5)\n",
        "\n",
        "\n",
        "svc = SVC().fit(pca_train.fit_transform(X_train), y_train)\n",
        "\n",
        "print(f'SVM acc: {svc.score(pca_train.transform(X_test[id_test]), y_test[id_test])}')"
      ],
      "metadata": {
        "colab": {
          "base_uri": "https://localhost:8080/"
        },
        "id": "ZkaUecMCvM0A",
        "outputId": "3b30d7d7-5472-4cee-be98-2c9e31cd26b3"
      },
      "execution_count": null,
      "outputs": [
        {
          "output_type": "stream",
          "name": "stdout",
          "text": [
            "SVM acc: 0.9647749510763209\n"
          ]
        }
      ]
    }
  ]
}